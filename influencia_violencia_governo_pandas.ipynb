{
 "cells": [
  {
   "cell_type": "markdown",
   "metadata": {},
   "source": [
    "# Influência do Governo na Violência de São Paulo"
   ]
  },
  {
   "cell_type": "markdown",
   "metadata": {},
   "source": [
    "**Faculdade Tecnológica de São José dos Campos - FATEC**"
   ]
  },
  {
   "cell_type": "markdown",
   "metadata": {},
   "source": [
    "**Análise e Desenvolvimento de Sistemas - Turma A - Arthur Barbero - Felippe Alves**"
   ]
  },
  {
   "cell_type": "markdown",
   "metadata": {},
   "source": [
    "**Com o intuito de aprendizagem referente as ferramentas básicas da biblioteca Pandas e matplotlib, realizamos uma pesquisa com base em análise e estruturação de dados públicos demonstrando a facilidade e a automatização de uma estrutura organizada e visual para a concientização ou até em tomadas de decisões.**"
   ]
  },
  {
   "cell_type": "markdown",
   "metadata": {},
   "source": [
    "De forma isenta e responsável, iremos abordar o assunto principal que, basicamente, formou a última eleição, elegendo o atual Presidente Jair Messias Bolsonaro, a Segurança Nacional. Com planos de governo extremistas e promessas de armamento civil, o brasileiro médio viu nas palavras do Presidente a possibilidade de um Brasil mais seguro, com a promessa de aumentar o contingente policial da Nação e trazer formas do cidadão se proteger, com o uso de armas de fogo."
   ]
  },
  {
   "cell_type": "markdown",
   "metadata": {},
   "source": [
    "Estes planos, até o momento, foram cumpridos em partes tendo como o principal, o armamento civil, ainda não realizado. Mesmo assim, vemos nas mídias mais sensacionalistas um aumento na violência e também aumento na reação contra bandidos. Como uma forma de resposta à eleição e tentativa de aumento de público, estes mesmos veículos midiáticos estão ora enaltecendo o trabalho policial, com suas ações rápidas sejam matando ou impondo suas violências permissivas socialmente nos denominados \"Bandidos\", e outra enaltecendo a reação ao assalto, muitos até contra transgressores armados."
   ]
  },
  {
   "cell_type": "markdown",
   "metadata": {},
   "source": [
    "Frases como \"CPF Cancelado!\" ou \"Bandido bom é bandido morto!\" vem aumentando nessas mídias e consequentemente trazendo um efeito cultural de culto à violência e ações extremistas para resolução de conflitos, deixando de lado pensamentos importantes como a realidade dos fatos ou a veracidade de ações policiais."
   ]
  },
  {
   "cell_type": "markdown",
   "metadata": {},
   "source": [
    "---------\n",
    "Para verificarmos estas afirmações, iremos realizar um trabalho em cima de dados transparentes e públicos, disponibilizados pelos sites a seguir:"
   ]
  },
  {
   "cell_type": "markdown",
   "metadata": {},
   "source": [
    "- [Site do Estado de São Paulo - Dados Estatísticos do Estado de São Paulo, por ano, região, município e delegacias](https://www.ssp.sp.gov.br/estatistica/pesquisa.aspx);\n",
    "  - No site da Transparência do Estado de São Paulo, podemos retirar dados referente a vários tipos de ocorrência de crimes como \"Porte de Entorpecentes\", \"Porte ilegal de armas de fogo\", \"Homicídio doloso\", \"Vítimas de Homicídio\" entre outros. Para este trabalho iremos utilizar de uma soma de todos os fatores disponíveis da aba \"Ocorrências Registradas por Mês\" no período de 2010 até agosto de 2020.\n",
    "  \n",
    "  Para cada ano realizamos a soma das ocorrencias em três subtotais:\n",
    "      - \"Total de Homicídios\":\n",
    "      Subtotal contendo os valores referentes a \"Homicídio doloso\", \"Homicídio doloso por acidente de trânsito\", \"Homicídio culposo por acidente de trânsito\", \"Homicídio culposo outros\" e \"Tentativas de Homicídio\".\n",
    "      \n",
    "      - \"Total de Lesões Corporais\":\n",
    "      Subtotal contendo os valores referente a \"Lesão corporal seguida de morte\", \"Lesão corporal dolosa\", \"Lesão corporal culposa por acidente de trânsito\", \"Lesão corporal culposa - outras\", \"Estupro\" e \"Estupro de Vulnerável\".\n",
    "      \n",
    "      - \"Total de Roubos e Latrocínio\":\n",
    "      Subtotal contendo os valores referente a \"Latrocínio\", \"Roubo de veículo\", \"Roubo a Banco\", \"Roubo de cargas\", \"Roubo - outros\", \"Furto de veículos\" e \"Furto - Outros\"."
   ]
  },
  {
   "cell_type": "code",
   "execution_count": null,
   "metadata": {},
   "outputs": [],
   "source": [
    "# Importamos as bibliotecas;\n",
    "import pandas as pd\n",
    "import seaborn as sb\n",
    "import matplotlib.pyplot as plt\n",
    "low_memory=False\n",
    "%matplotlib inline\n",
    "\n",
    "# Utilizamos a variável \"filename\" para receber o arquivo e outra variável \"df \n",
    "# para armazenar o mesmo arquivo após leitura em formato CSV\n",
    "filename = 'violencia_sp.csv'\n",
    "df= pd.read_csv(filename, encoding='latin-1')\n",
    "df"
   ]
  },
  {
   "cell_type": "markdown",
   "metadata": {},
   "source": [
    "------\n",
    "Com base nos dados acima, iremos demonstrar cada dado separadamente.\n",
    "\n",
    "**Obs.: Os dados de 2020 são parciais, vão de Janeiro até Agosto, e também deve-se considerar o efeito de uma pandemia que se instaurou em Março deste mesmo ano, causando um impacto na análise de dados indicando falsa queda de casos.** \n"
   ]
  },
  {
   "cell_type": "code",
   "execution_count": null,
   "metadata": {},
   "outputs": [],
   "source": [
    "# Clonando o DataFrame original e ordenando de forma decrescente\n",
    "df2 = df[['Ano','Total de Homicídios']].sort_values(by=(\"Ano\"), ascending=True).reset_index(drop=True)\n",
    "\n",
    "# Criando o gráfico de linhas\n",
    "ax = df2.plot(kind=\"line\", fontsize=(16), figsize=[20,10], x=(\"Ano\"), color='orange', linewidth=3)\n",
    "\n",
    "# Criando o gráfico de Barras, incluindo o gráfico de linhas\n",
    "plot = df2.plot(kind=\"bar\", fontsize=(16), figsize=[20,10], x=(\"Ano\"), ax=ax)\n",
    "\n",
    "# Criando para cada valor no DataFrame, um rótulo de dados contendo a posição no gráfico e seu valor\n",
    "for index, value in df2.iterrows():\n",
    "    plot.text((index-0.25), (value[\"Total de Homicídios\"]+200), str(value[\"Total de Homicídios\"]), fontsize=16)\n",
    "\n",
    "# Colocando titulo e legendas\n",
    "plot.set_xlabel(\"Ano\", fontsize=(16));\n",
    "plot.set_title(\"Total de Homicídios em São Paulo - Anual\", fontsize=(20));\n",
    "plot.set_ylabel(\"Ocorrências\", fontsize=(16));\n",
    "\n",
    "# Apresentando o gráfico\n",
    "plt.show()\n",
    "\n",
    "print('2020¹ - Dados até agosto de 2020')"
   ]
  },
  {
   "cell_type": "code",
   "execution_count": null,
   "metadata": {},
   "outputs": [],
   "source": [
    "# Clonando o DataFrame original e ordenando de forma decrescente\n",
    "df2 = df[['Ano','Total de Lesões Corporais']].sort_values(by=(\"Ano\"), ascending=True).reset_index(drop=True)\n",
    "\n",
    "# Criando o gráfico de linhas\n",
    "ax = df2.plot(kind=\"line\", fontsize=(16), figsize=[20,10], x=(\"Ano\"), color='orange', linewidth=3)\n",
    "\n",
    "# Criando o gráfico de Barras, incluindo o gráfico de linhas\n",
    "plot = df2.plot(kind=\"bar\", fontsize=(16), figsize=[20,10], x=(\"Ano\"), color=\"green\", ax=ax)\n",
    "\n",
    "# Criando para cada valor no DataFrame, um rótulo de dados contendo a posição no gráfico e seu valor\n",
    "for index, value in df2.iterrows():\n",
    "    plot.text((index-0.25), (value[\"Total de Lesões Corporais\"]+200), str(value[\"Total de Lesões Corporais\"]), fontsize=16)\n",
    "\n",
    "# Colocando titulo e legendas\n",
    "plot.set_xlabel(\"Ano\", fontsize=(16));\n",
    "plot.set_title(\"Total de Lesões Corporais em São Paulo - Anual\", fontsize=(20));\n",
    "plot.set_ylabel(\"Ocorrências\", fontsize=(16));\n",
    "\n",
    "# Apresentando o gráfico\n",
    "plt.show()\n",
    "\n",
    "print('2020¹ - Dados até agosto de 2020')"
   ]
  },
  {
   "cell_type": "code",
   "execution_count": null,
   "metadata": {},
   "outputs": [],
   "source": [
    "# Clonando o DataFrame original e ordenando de forma decrescente\n",
    "df2 = df[['Ano','Total de Roubo e Latrocínio']].sort_values(by=(\"Ano\"), ascending=True).reset_index(drop=True)\n",
    "\n",
    "# Criando o gráfico de linhas\n",
    "ax = df2.plot(kind=\"line\", fontsize=(16), figsize=[20,10], x=(\"Ano\"), color='orange', linewidth=3)\n",
    "\n",
    "# Criando o gráfico de Barras, incluindo o gráfico de linhas\n",
    "plot = df2.plot(kind=\"bar\", fontsize=(16), figsize=[20,10], x=(\"Ano\"), color=\"grey\", ax=ax)\n",
    "\n",
    "# Criando para cada valor no DataFrame, um rótulo de dados contendo a posição no gráfico e seu valor\n",
    "for index, value in df2.iterrows():\n",
    "    plot.text((index-0.25), (value[\"Total de Roubo e Latrocínio\"]+200), str(value[\"Total de Roubo e Latrocínio\"]), fontsize=16)\n",
    "\n",
    "# Colocando titulo e legendas\n",
    "plot.set_xlabel(\"Ano\", fontsize=(16));\n",
    "plot.set_title(\"Total de Roubo e Latrocínio em São Paulo - Anual\", fontsize=(20));\n",
    "plot.set_ylabel(\"Ocorrências\", fontsize=(16));\n",
    "\n",
    "# Apresentando o gráfico\n",
    "plt.show()\n",
    "\n",
    "print('2020¹ - Dados até agosto de 2020')\n"
   ]
  },
  {
   "cell_type": "markdown",
   "metadata": {},
   "source": [
    "## Conclusão:\n",
    "\n",
    "Esse retrato preocupante, devido aos altos números de casos, se torna a realidade brasileira, fazendo portanto imprescindivel promover ações que possam, de fato, reverter esse quadro. No início do ano de 2019, houve a posse da presidência pelo Jair Messias Bolsonaro, nesse período, e em cada ocasião apresentada acima, demonstra-se um pequeno equilíbrio no quadro de violência que, comparado aos mandatos de anos anteriores, quebra-se o ciclo de queda de casos, lembrando que as propostas do atual presidente de flexibilização na posse de armas ainda não foram implementadas. \n",
    "\n",
    "Segundo Bárbara Libório, jornalista do [AosFatos](https://www.aosfatos.org/noticias/o-que-dizem-os-estudos-sobre-os-efeitos-da-flexibilizacao-da-posse-de-armas/#:~:text=Ou%20seja%2C%20n%C3%A3o%20existe%20um,ajuda%20a%20conter%20a%20criminalidade.), \" *... a maior parte dos estudos recentes sobre o tema vai contra a afirmação de que uma maior quantidade de armas em circulação ajuda a conter a criminalidade. Em outubro de 2017, o doutorando em economia Thomas Conti [revisou](http://thomasvconti.com.br/2017/dossie-armas-violencia-e-crimes-o-que-nos-dizem-61-pesquisas-recentes/#resumo) a literatura publicada sobre o tema em um período de cinco anos e traduziu os resumos de 61 pesquisas publicadas entre 2013 e outubro de 2017. O pesquisador deu preferência a artigos já publicados ou em vias de publicação em periódicos acadêmicos de qualidade e com revisão por pares.*\". \n",
    "\n",
    "A matéria também cita uma frase do ex-ministro da Justiça e Segurança Pública, Sergio Moro, \"*Essa questão de estatística, de causa de violência, sempre é um tema bastante controvertido. Claro que especialistas que trabalham com isso devem ser valorizados, até valorizamos isso reportando a estatística colhida por institutos, mas o fato é que isso é controverso. A política anterior não resultou numa diminuição significativa do número de homicídios no Brasil. Se a política de desarmamento fosse tão exitosa, o que teria se esperado era que o Brasil não batesse ano após ano o recorde em número de homicídios.*\", podemos ver que algumas afirmações acabam sendo falsas quando trazemos a tona os dados acima.\n",
    "\n",
    "No ano de 2020, temos uma margem muito instável, perânte a pandemia, muitos cidadãos não sairam de casa por vários dias, diminuindo em grande escala as ocorrências. É claro que este recorte da realidade é muito pequeno tendo em vista a imensidão de matérias que são veiculadas diariamente. \n",
    "\n",
    "Concluímos que esta pesquisa teve sucesso ao informar a qualquer um que se interesse ao tema sobre nos aproximar desses fenômeno, trazendo sempre indagações importantes a discussão, às informações que são divulgadas na mídia e sempre procurar fontes confiáveis e principalmente fatos sobre o ocorrido."
   ]
  }
 ],
 "metadata": {
  "kernelspec": {
   "display_name": "Python 3",
   "language": "python",
   "name": "python3"
  },
  "language_info": {
   "codemirror_mode": {
    "name": "ipython",
    "version": 3
   },
   "file_extension": ".py",
   "mimetype": "text/x-python",
   "name": "python",
   "nbconvert_exporter": "python",
   "pygments_lexer": "ipython3",
   "version": "3.9.0"
  }
 },
 "nbformat": 4,
 "nbformat_minor": 2
}
