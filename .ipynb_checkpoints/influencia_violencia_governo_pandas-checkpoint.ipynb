{
 "cells": [
  {
   "cell_type": "markdown",
   "metadata": {},
   "source": [
    "# Influência do Governo na Violência de São Paulo"
   ]
  },
  {
   "cell_type": "markdown",
   "metadata": {},
   "source": [
    "**Faculdade Tecnológica de São José dos Campos - FATEC**"
   ]
  },
  {
   "cell_type": "markdown",
   "metadata": {},
   "source": [
    "**Análise e Desenvolvimento de Sistemas - Turma A - Arthur Barbero - Felippe Alves**"
   ]
  },
  {
   "cell_type": "markdown",
   "metadata": {},
   "source": [
    "**Com o intuito de aprendizagem referente as ferramentas básicas da biblioteca Pandas e matplotlib, realizamos uma pesquisa com base em análise e estruturação de dados públicos demonstrando a facilidade e a automatização de uma estrutura organizada e visual para a concientização ou até em tomadas de decisões.**"
   ]
  },
  {
   "cell_type": "markdown",
   "metadata": {},
   "source": [
    "De forma isenta e responsável, iremos abordar o assunto principal que, basicamente, formou a última eleição, elegendo o atual Presidente Jair Messias Bolsonaro, a Segurança Nacional. Com planos de governo extremistas e promessas de armamento civil, o brasileiro médio viu nas palavras do Presidente a possibilidade de um Brasil mais seguro, com a promessa de aumentar o contingente policial da Nação e trazer formas do cidadão se proteger, com o uso de armas de fogo."
   ]
  },
  {
   "cell_type": "markdown",
   "metadata": {},
   "source": [
    "Estes planos, até o momento, foram cumpridos em partes tendo como o principal, o armamento civil, ainda não realizado. Mesmo assim, vemos nas mídias mais sensacionalistas um aumento na violência e também aumento na reação contra bandidos. Como uma forma de resposta à eleição e tentativa de aumento de público, estes mesmos veículos midiáticos estão ora enaltecendo o trabalho policial, com suas ações rápidas sejam matando ou impondo suas violências permissivas socialmente nos denominados \"Bandidos\", e outra enaltecendo a reação ao assalto, muitos até contra meliantes armados."
   ]
  },
  {
   "cell_type": "markdown",
   "metadata": {},
   "source": [
    "Frases como \"CPF Cancelado!\" ou \"Bandido bom é bandido morto!\" vem aumentando nessas mídias e consequentemente trazendo um efeito cultural de culto à violência e ações extremistas para resolução de conflitos, deixando de lado pensamentos importantes como a realidade dos fatos ou a veracidade de ações policiais."
   ]
  },
  {
   "cell_type": "markdown",
   "metadata": {},
   "source": [
    "---------\n",
    "Para verificarmos estas afirmações, iremos realizar um trabalho em cima de dados transparentes e públicos, disponibilizados pelos sites a seguir:"
   ]
  },
  {
   "cell_type": "markdown",
   "metadata": {},
   "source": [
    "- [Site do Estado de São Paulo - Dados Estatísticos do Estado de São Paulo, por ano, região, município e delegacias](https://www.ssp.sp.gov.br/estatistica/pesquisa.aspx);\n",
    "  - No site da Transparência do Estado de São Paulo, podemos retirar dados referente a vários tipos de ocorrência de crimes como \"Porte de Entorpecentes\", \"Porte ilegal de armas de fogo\", \"Homicídio doloso\", \"Vítimas de Homicídio\" entre outros. Para este trabalho iremos utilizar de uma soma de todos os fatores disponíveis da aba \"Ocorrências Registradas por Mês\" no período de 2010 até agosto de 2020.\n",
    "  \n",
    "  Para cada ano realizamos a soma das ocorrencias em três subtotais:\n",
    "      - \"Total de Homicídios\":\n",
    "      Subtotal contendo os valores referentes a \"Homicídio doloso\", \"Homicídio doloso por acidente de trânsito\", \"Homicídio culposo por acidente de trânsito\", \"Homicídio culposo outros\" e \"Tentativas de Homicídio\".\n",
    "      \n",
    "      - \"Total de Lesões Corporais\":\n",
    "      Subtotal contendo os valores referente a \"Lesão corporal seguida de morte\", \"Lesão corporal dolosa\", \"Lesão corporal culposa por acidente de trânsito\", \"Lesão corporal culposa - outras\", \"Estupro\" e \"Estupro de Vulnerável\".\n",
    "      \n",
    "      - \"Total de Roubos e Latrocínio\":\n",
    "      Subtotal contendo os valores referente a \"Latrocínio\", \"Roubo de veículo\", \"Roubo a Banco\", \"Roubo de cargas\", \"Roubo - outros\", \"Furto de veículos\" e \"Furto - Outros\"."
   ]
  },
  {
   "cell_type": "code",
   "execution_count": 85,
   "metadata": {},
   "outputs": [
    {
     "data": {
      "text/html": [
       "<div>\n",
       "<style scoped>\n",
       "    .dataframe tbody tr th:only-of-type {\n",
       "        vertical-align: middle;\n",
       "    }\n",
       "\n",
       "    .dataframe tbody tr th {\n",
       "        vertical-align: top;\n",
       "    }\n",
       "\n",
       "    .dataframe thead th {\n",
       "        text-align: right;\n",
       "    }\n",
       "</style>\n",
       "<table border=\"1\" class=\"dataframe\">\n",
       "  <thead>\n",
       "    <tr style=\"text-align: right;\">\n",
       "      <th></th>\n",
       "      <th>Ocorrencia</th>\n",
       "      <th>2020¹</th>\n",
       "      <th>2019</th>\n",
       "      <th>2018</th>\n",
       "      <th>2017</th>\n",
       "      <th>2016</th>\n",
       "      <th>2015</th>\n",
       "      <th>2014</th>\n",
       "      <th>2013</th>\n",
       "      <th>2012</th>\n",
       "      <th>2011</th>\n",
       "      <th>2010</th>\n",
       "      <th>2009</th>\n",
       "    </tr>\n",
       "  </thead>\n",
       "  <tbody>\n",
       "    <tr>\n",
       "      <th>0</th>\n",
       "      <td>Total de Homicídios</td>\n",
       "      <td>6118</td>\n",
       "      <td>9597</td>\n",
       "      <td>9814</td>\n",
       "      <td>10805</td>\n",
       "      <td>11382</td>\n",
       "      <td>12035</td>\n",
       "      <td>14472</td>\n",
       "      <td>14847</td>\n",
       "      <td>16100</td>\n",
       "      <td>14441</td>\n",
       "      <td>14278</td>\n",
       "      <td>14564</td>\n",
       "    </tr>\n",
       "    <tr>\n",
       "      <th>1</th>\n",
       "      <td>Total de Lesões Corporais</td>\n",
       "      <td>115093</td>\n",
       "      <td>220802</td>\n",
       "      <td>219232</td>\n",
       "      <td>240041</td>\n",
       "      <td>250732</td>\n",
       "      <td>264713</td>\n",
       "      <td>299773</td>\n",
       "      <td>327173</td>\n",
       "      <td>355166</td>\n",
       "      <td>346520</td>\n",
       "      <td>330422</td>\n",
       "      <td>326704</td>\n",
       "    </tr>\n",
       "    <tr>\n",
       "      <th>2</th>\n",
       "      <td>Total de Roubo e Latrocínio</td>\n",
       "      <td>472922</td>\n",
       "      <td>914925</td>\n",
       "      <td>926597</td>\n",
       "      <td>991386</td>\n",
       "      <td>714205</td>\n",
       "      <td>693677</td>\n",
       "      <td>747157</td>\n",
       "      <td>766980</td>\n",
       "      <td>748984</td>\n",
       "      <td>732977</td>\n",
       "      <td>683812</td>\n",
       "      <td>714716</td>\n",
       "    </tr>\n",
       "  </tbody>\n",
       "</table>\n",
       "</div>"
      ],
      "text/plain": [
       "                    Ocorrencia   2020¹    2019    2018    2017    2016  \\\n",
       "0          Total de Homicídios    6118    9597    9814   10805   11382   \n",
       "1    Total de Lesões Corporais  115093  220802  219232  240041  250732   \n",
       "2  Total de Roubo e Latrocínio  472922  914925  926597  991386  714205   \n",
       "\n",
       "     2015    2014    2013    2012    2011    2010    2009  \n",
       "0   12035   14472   14847   16100   14441   14278   14564  \n",
       "1  264713  299773  327173  355166  346520  330422  326704  \n",
       "2  693677  747157  766980  748984  732977  683812  714716  "
      ]
     },
     "execution_count": 85,
     "metadata": {},
     "output_type": "execute_result"
    }
   ],
   "source": [
    "# Importamos as bibliotecas;\n",
    "import pandas as pd\n",
    "import seaborn as sb\n",
    "low_memory=False\n",
    "%matplotlib inline\n",
    "\n",
    "# Utilizamos a variável \"filename\" para receber o arquivo e outra variável \"df \n",
    "# para armazenar o mesmo arquivo após leitura em formato CSV\n",
    "filename = 'violencia_sp.csv'\n",
    "df= pd.read_csv(filename, encoding='latin-1')\n",
    "df"
   ]
  },
  {
   "cell_type": "code",
   "execution_count": 81,
   "metadata": {},
   "outputs": [],
   "source": [
    "\n",
    "\n",
    "\n"
   ]
  },
  {
   "cell_type": "code",
   "execution_count": null,
   "metadata": {},
   "outputs": [],
   "source": []
  },
  {
   "cell_type": "code",
   "execution_count": null,
   "metadata": {},
   "outputs": [],
   "source": []
  },
  {
   "cell_type": "code",
   "execution_count": null,
   "metadata": {},
   "outputs": [],
   "source": []
  }
 ],
 "metadata": {
  "kernelspec": {
   "display_name": "Python 3",
   "language": "python",
   "name": "python3"
  },
  "language_info": {
   "codemirror_mode": {
    "name": "ipython",
    "version": 3
   },
   "file_extension": ".py",
   "mimetype": "text/x-python",
   "name": "python",
   "nbconvert_exporter": "python",
   "pygments_lexer": "ipython3",
   "version": "3.6.12"
  }
 },
 "nbformat": 4,
 "nbformat_minor": 2
}
